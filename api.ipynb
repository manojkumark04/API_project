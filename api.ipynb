{
  "nbformat": 4,
  "nbformat_minor": 0,
  "metadata": {
    "colab": {
      "provenance": [],
      "authorship_tag": "ABX9TyPMV4mzp0vYyPKzg/Bc0NSk"
    },
    "kernelspec": {
      "name": "python3",
      "display_name": "Python 3"
    },
    "language_info": {
      "name": "python"
    }
  },
  "cells": [
    {
      "cell_type": "code",
      "execution_count": 1,
      "metadata": {
        "colab": {
          "base_uri": "https://localhost:8080/"
        },
        "id": "WVg886PCIYWy",
        "outputId": "2858adce-ebcc-4b49-87a8-d0a99db84586"
      },
      "outputs": [
        {
          "output_type": "stream",
          "name": "stdout",
          "text": [
            "{'location': {'name': 'Chennai', 'region': 'Tamil Nadu', 'country': 'India', 'lat': 13.08, 'lon': 80.28, 'tz_id': 'Asia/Kolkata', 'localtime_epoch': 1693897048, 'localtime': '2023-09-05 12:27'}, 'current': {'last_updated_epoch': 1693896300, 'last_updated': '2023-09-05 12:15', 'temp_c': 29.0, 'temp_f': 84.2, 'is_day': 1, 'condition': {'text': 'Mist', 'icon': '//cdn.weatherapi.com/weather/64x64/day/143.png', 'code': 1030}, 'wind_mph': 11.9, 'wind_kph': 19.1, 'wind_degree': 270, 'wind_dir': 'W', 'pressure_mb': 1004.0, 'pressure_in': 29.65, 'precip_mm': 0.0, 'precip_in': 0.0, 'humidity': 75, 'cloud': 75, 'feelslike_c': 32.7, 'feelslike_f': 90.8, 'vis_km': 5.0, 'vis_miles': 3.0, 'uv': 6.0, 'gust_mph': 17.4, 'gust_kph': 28.1}}\n"
          ]
        }
      ],
      "source": [
        "import requests\n",
        "\n",
        "url = \"https://weatherapi-com.p.rapidapi.com/current.json\"\n",
        "\n",
        "querystring = {\"q\":\"13.080972,80.280445\"}\n",
        "\n",
        "headers = {\n",
        "\t\"X-RapidAPI-Key\": \"d285cb89fbmsh3bec43021369b14p1213e8jsn8fb077240dc9\",\n",
        "\t\"X-RapidAPI-Host\": \"weatherapi-com.p.rapidapi.com\"\n",
        "}\n",
        "\n",
        "response = requests.get(url, headers=headers, params=querystring)\n",
        "\n",
        "print(response.json())"
      ]
    }
  ]
}